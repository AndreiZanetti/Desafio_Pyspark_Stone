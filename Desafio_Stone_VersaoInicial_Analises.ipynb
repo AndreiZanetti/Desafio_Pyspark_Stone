{
  "nbformat": 4,
  "nbformat_minor": 0,
  "metadata": {
    "colab": {
      "name": "Desafio_Stone_VersaoInicial_Analises.ipynb",
      "provenance": [],
      "collapsed_sections": [],
      "toc_visible": true
    },
    "kernelspec": {
      "name": "python3",
      "display_name": "Python 3"
    },
    "language_info": {
      "name": "python"
    }
  },
  "cells": [
    {
      "cell_type": "markdown",
      "source": [
        "# Instalando o Pyspark no Google Colab"
      ],
      "metadata": {
        "id": "i9KtqtsXw8eL"
      }
    },
    {
      "cell_type": "code",
      "execution_count": 1,
      "metadata": {
        "id": "seyojb1Nw1Dc",
        "colab": {
          "base_uri": "https://localhost:8080/"
        },
        "outputId": "b207286a-9854-4304-d90c-576d2916ffc8"
      },
      "outputs": [
        {
          "output_type": "stream",
          "name": "stdout",
          "text": [
            "Collecting pyspark\n",
            "  Downloading pyspark-3.2.1.tar.gz (281.4 MB)\n",
            "\u001b[K     |████████████████████████████████| 281.4 MB 37 kB/s \n",
            "\u001b[?25hCollecting py4j==0.10.9.3\n",
            "  Downloading py4j-0.10.9.3-py2.py3-none-any.whl (198 kB)\n",
            "\u001b[K     |████████████████████████████████| 198 kB 39.0 MB/s \n",
            "\u001b[?25hBuilding wheels for collected packages: pyspark\n",
            "  Building wheel for pyspark (setup.py) ... \u001b[?25l\u001b[?25hdone\n",
            "  Created wheel for pyspark: filename=pyspark-3.2.1-py2.py3-none-any.whl size=281853642 sha256=fe5174b1501748ccc5e0e0e476de94e44e52c1f5cfded3fb44f2843cbc44fb62\n",
            "  Stored in directory: /root/.cache/pip/wheels/9f/f5/07/7cd8017084dce4e93e84e92efd1e1d5334db05f2e83bcef74f\n",
            "Successfully built pyspark\n",
            "Installing collected packages: py4j, pyspark\n",
            "Successfully installed py4j-0.10.9.3 pyspark-3.2.1\n"
          ]
        }
      ],
      "source": [
        "# install java\n",
        "!apt-get install openjdk-8-jdk-headless -qq > /dev/null\n",
        "\n",
        "# install spark (change the version number if needed)\n",
        "!wget -q https://archive.apache.org/dist/spark/spark-3.1.2/spark-3.1.2-bin-hadoop2.7.tgz\n",
        "\n",
        "# unzip the spark file to the current folder\n",
        "!tar xf spark-3.1.2-bin-hadoop2.7.tgz\n",
        "\n",
        "# install findspark and pyspark using pip\n",
        "!pip install -q findspark\n",
        "!pip install pyspark\n",
        "\n",
        "# set your spark folder to your system path environment. \n",
        "import os\n",
        "os.environ[\"JAVA_HOME\"] = \"/usr/lib/jvm/java-8-openjdk-amd64\"\n",
        "os.environ[\"SPARK_HOME\"] = \"/content/spark-3.1.2-bin-hadoop2.7\""
      ]
    },
    {
      "cell_type": "markdown",
      "source": [
        "# Chamandos as libraries"
      ],
      "metadata": {
        "id": "-qmWH1FqxMXZ"
      }
    },
    {
      "cell_type": "code",
      "source": [
        "import pandas as pd\n",
        "import pyspark\n",
        "import findspark\n",
        "findspark.init()"
      ],
      "metadata": {
        "id": "5BrwSK2E5kJz"
      },
      "execution_count": 2,
      "outputs": []
    },
    {
      "cell_type": "code",
      "source": [
        "# importing sparksession from pyspark.sql module\n",
        "from pyspark.sql import SparkSession\n",
        "from pyspark.sql import *\n",
        "from pyspark.sql.functions import *"
      ],
      "metadata": {
        "id": "kkSB06mryCGD"
      },
      "execution_count": 9,
      "outputs": []
    },
    {
      "cell_type": "code",
      "source": [
        "spark = SparkSession.builder \\\n",
        "    .master('local') \\\n",
        "    .appName('DesafioStone') \\\n",
        "    .config('spark.ui.port', '4050') \\\n",
        "    .getOrCreate()"
      ],
      "metadata": {
        "id": "_GRRAGXZ6xGE"
      },
      "execution_count": 10,
      "outputs": []
    },
    {
      "cell_type": "code",
      "source": [
        "spark"
      ],
      "metadata": {
        "colab": {
          "base_uri": "https://localhost:8080/",
          "height": 219
        },
        "id": "9VkUAF5yyi70",
        "outputId": "a1da5d2a-f08b-4254-ebc1-79eaca38753d"
      },
      "execution_count": null,
      "outputs": [
        {
          "output_type": "execute_result",
          "data": {
            "text/plain": [
              "<pyspark.sql.session.SparkSession at 0x7f58a6322050>"
            ],
            "text/html": [
              "\n",
              "            <div>\n",
              "                <p><b>SparkSession - in-memory</b></p>\n",
              "                \n",
              "        <div>\n",
              "            <p><b>SparkContext</b></p>\n",
              "\n",
              "            <p><a href=\"http://e9d614428508:4050\">Spark UI</a></p>\n",
              "\n",
              "            <dl>\n",
              "              <dt>Version</dt>\n",
              "                <dd><code>v3.1.2</code></dd>\n",
              "              <dt>Master</dt>\n",
              "                <dd><code>local</code></dd>\n",
              "              <dt>AppName</dt>\n",
              "                <dd><code>DesafioStone</code></dd>\n",
              "            </dl>\n",
              "        </div>\n",
              "        \n",
              "            </div>\n",
              "        "
            ]
          },
          "metadata": {},
          "execution_count": 5
        }
      ]
    },
    {
      "cell_type": "markdown",
      "source": [
        "# Input e análise de dados com Pandas"
      ],
      "metadata": {
        "id": "gM0a4_JE0htU"
      }
    },
    {
      "cell_type": "code",
      "source": [
        "from google.colab import files\n",
        "uploaded = files.upload()"
      ],
      "metadata": {
        "colab": {
          "resources": {
            "http://localhost:8080/nbextensions/google.colab/files.js": {
              "data": "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",
              "ok": true,
              "headers": [
                [
                  "content-type",
                  "application/javascript"
                ]
              ],
              "status": 200,
              "status_text": ""
            }
          },
          "base_uri": "https://localhost:8080/",
          "height": 73
        },
        "id": "0PPLkm4d0pq_",
        "outputId": "cd8aefa6-ff5b-4b3d-b6ea-94a073e8e664"
      },
      "execution_count": 4,
      "outputs": [
        {
          "output_type": "display_data",
          "data": {
            "text/plain": [
              "<IPython.core.display.HTML object>"
            ],
            "text/html": [
              "\n",
              "     <input type=\"file\" id=\"files-c352917b-4d64-45a4-a2fc-08384e75d573\" name=\"files[]\" multiple disabled\n",
              "        style=\"border:none\" />\n",
              "     <output id=\"result-c352917b-4d64-45a4-a2fc-08384e75d573\">\n",
              "      Upload widget is only available when the cell has been executed in the\n",
              "      current browser session. Please rerun this cell to enable.\n",
              "      </output>\n",
              "      <script src=\"/nbextensions/google.colab/files.js\"></script> "
            ]
          },
          "metadata": {}
        },
        {
          "output_type": "stream",
          "name": "stdout",
          "text": [
            "Saving base_desafio_lucros.json to base_desafio_lucros.json\n"
          ]
        }
      ]
    },
    {
      "cell_type": "code",
      "source": [
        "pd_funcionarios = pd.read_json('base_desafio_lucros.json')\n",
        "pd_funcionarios.head()"
      ],
      "metadata": {
        "colab": {
          "base_uri": "https://localhost:8080/",
          "height": 206
        },
        "id": "06yUqLv10wdT",
        "outputId": "6af48b91-322c-4cff-ba72-e9593ac3362b"
      },
      "execution_count": null,
      "outputs": [
        {
          "output_type": "execute_result",
          "data": {
            "text/plain": [
              "   matricula                  nome                          area  \\\n",
              "0    5433534          Ivo Ferreira                    Tecnologia   \n",
              "1    5241166  Caetana da Magalhães                    Tecnologia   \n",
              "2    3027629      Benjamim Cardoso                 Contabilidade   \n",
              "3    2556888       Diego da Campos  Relacionamento com o Cliente   \n",
              "4    2390033          Leonor Moura                    Tecnologia   \n",
              "\n",
              "                     cargo salario_bruto data_de_admissao  \n",
              "0    Pessoa Desenvolvedora     $3,636.00       2004-05-28  \n",
              "1           Jovem Aprendiz    $12,726.00       2009-09-06  \n",
              "2  Auxiliar Administrativo     $3,636.00       2020-05-08  \n",
              "3                Atendente     $1,515.00       2016-09-10  \n",
              "4           Jovem Aprendiz     $2,424.00       2016-01-15  "
            ],
            "text/html": [
              "\n",
              "  <div id=\"df-599bf67a-6352-40d8-96f9-7df79f9bae70\">\n",
              "    <div class=\"colab-df-container\">\n",
              "      <div>\n",
              "<style scoped>\n",
              "    .dataframe tbody tr th:only-of-type {\n",
              "        vertical-align: middle;\n",
              "    }\n",
              "\n",
              "    .dataframe tbody tr th {\n",
              "        vertical-align: top;\n",
              "    }\n",
              "\n",
              "    .dataframe thead th {\n",
              "        text-align: right;\n",
              "    }\n",
              "</style>\n",
              "<table border=\"1\" class=\"dataframe\">\n",
              "  <thead>\n",
              "    <tr style=\"text-align: right;\">\n",
              "      <th></th>\n",
              "      <th>matricula</th>\n",
              "      <th>nome</th>\n",
              "      <th>area</th>\n",
              "      <th>cargo</th>\n",
              "      <th>salario_bruto</th>\n",
              "      <th>data_de_admissao</th>\n",
              "    </tr>\n",
              "  </thead>\n",
              "  <tbody>\n",
              "    <tr>\n",
              "      <th>0</th>\n",
              "      <td>5433534</td>\n",
              "      <td>Ivo Ferreira</td>\n",
              "      <td>Tecnologia</td>\n",
              "      <td>Pessoa Desenvolvedora</td>\n",
              "      <td>$3,636.00</td>\n",
              "      <td>2004-05-28</td>\n",
              "    </tr>\n",
              "    <tr>\n",
              "      <th>1</th>\n",
              "      <td>5241166</td>\n",
              "      <td>Caetana da Magalhães</td>\n",
              "      <td>Tecnologia</td>\n",
              "      <td>Jovem Aprendiz</td>\n",
              "      <td>$12,726.00</td>\n",
              "      <td>2009-09-06</td>\n",
              "    </tr>\n",
              "    <tr>\n",
              "      <th>2</th>\n",
              "      <td>3027629</td>\n",
              "      <td>Benjamim Cardoso</td>\n",
              "      <td>Contabilidade</td>\n",
              "      <td>Auxiliar Administrativo</td>\n",
              "      <td>$3,636.00</td>\n",
              "      <td>2020-05-08</td>\n",
              "    </tr>\n",
              "    <tr>\n",
              "      <th>3</th>\n",
              "      <td>2556888</td>\n",
              "      <td>Diego da Campos</td>\n",
              "      <td>Relacionamento com o Cliente</td>\n",
              "      <td>Atendente</td>\n",
              "      <td>$1,515.00</td>\n",
              "      <td>2016-09-10</td>\n",
              "    </tr>\n",
              "    <tr>\n",
              "      <th>4</th>\n",
              "      <td>2390033</td>\n",
              "      <td>Leonor Moura</td>\n",
              "      <td>Tecnologia</td>\n",
              "      <td>Jovem Aprendiz</td>\n",
              "      <td>$2,424.00</td>\n",
              "      <td>2016-01-15</td>\n",
              "    </tr>\n",
              "  </tbody>\n",
              "</table>\n",
              "</div>\n",
              "      <button class=\"colab-df-convert\" onclick=\"convertToInteractive('df-599bf67a-6352-40d8-96f9-7df79f9bae70')\"\n",
              "              title=\"Convert this dataframe to an interactive table.\"\n",
              "              style=\"display:none;\">\n",
              "        \n",
              "  <svg xmlns=\"http://www.w3.org/2000/svg\" height=\"24px\"viewBox=\"0 0 24 24\"\n",
              "       width=\"24px\">\n",
              "    <path d=\"M0 0h24v24H0V0z\" fill=\"none\"/>\n",
              "    <path d=\"M18.56 5.44l.94 2.06.94-2.06 2.06-.94-2.06-.94-.94-2.06-.94 2.06-2.06.94zm-11 1L8.5 8.5l.94-2.06 2.06-.94-2.06-.94L8.5 2.5l-.94 2.06-2.06.94zm10 10l.94 2.06.94-2.06 2.06-.94-2.06-.94-.94-2.06-.94 2.06-2.06.94z\"/><path d=\"M17.41 7.96l-1.37-1.37c-.4-.4-.92-.59-1.43-.59-.52 0-1.04.2-1.43.59L10.3 9.45l-7.72 7.72c-.78.78-.78 2.05 0 2.83L4 21.41c.39.39.9.59 1.41.59.51 0 1.02-.2 1.41-.59l7.78-7.78 2.81-2.81c.8-.78.8-2.07 0-2.86zM5.41 20L4 18.59l7.72-7.72 1.47 1.35L5.41 20z\"/>\n",
              "  </svg>\n",
              "      </button>\n",
              "      \n",
              "  <style>\n",
              "    .colab-df-container {\n",
              "      display:flex;\n",
              "      flex-wrap:wrap;\n",
              "      gap: 12px;\n",
              "    }\n",
              "\n",
              "    .colab-df-convert {\n",
              "      background-color: #E8F0FE;\n",
              "      border: none;\n",
              "      border-radius: 50%;\n",
              "      cursor: pointer;\n",
              "      display: none;\n",
              "      fill: #1967D2;\n",
              "      height: 32px;\n",
              "      padding: 0 0 0 0;\n",
              "      width: 32px;\n",
              "    }\n",
              "\n",
              "    .colab-df-convert:hover {\n",
              "      background-color: #E2EBFA;\n",
              "      box-shadow: 0px 1px 2px rgba(60, 64, 67, 0.3), 0px 1px 3px 1px rgba(60, 64, 67, 0.15);\n",
              "      fill: #174EA6;\n",
              "    }\n",
              "\n",
              "    [theme=dark] .colab-df-convert {\n",
              "      background-color: #3B4455;\n",
              "      fill: #D2E3FC;\n",
              "    }\n",
              "\n",
              "    [theme=dark] .colab-df-convert:hover {\n",
              "      background-color: #434B5C;\n",
              "      box-shadow: 0px 1px 3px 1px rgba(0, 0, 0, 0.15);\n",
              "      filter: drop-shadow(0px 1px 2px rgba(0, 0, 0, 0.3));\n",
              "      fill: #FFFFFF;\n",
              "    }\n",
              "  </style>\n",
              "\n",
              "      <script>\n",
              "        const buttonEl =\n",
              "          document.querySelector('#df-599bf67a-6352-40d8-96f9-7df79f9bae70 button.colab-df-convert');\n",
              "        buttonEl.style.display =\n",
              "          google.colab.kernel.accessAllowed ? 'block' : 'none';\n",
              "\n",
              "        async function convertToInteractive(key) {\n",
              "          const element = document.querySelector('#df-599bf67a-6352-40d8-96f9-7df79f9bae70');\n",
              "          const dataTable =\n",
              "            await google.colab.kernel.invokeFunction('convertToInteractive',\n",
              "                                                     [key], {});\n",
              "          if (!dataTable) return;\n",
              "\n",
              "          const docLinkHtml = 'Like what you see? Visit the ' +\n",
              "            '<a target=\"_blank\" href=https://colab.research.google.com/notebooks/data_table.ipynb>data table notebook</a>'\n",
              "            + ' to learn more about interactive tables.';\n",
              "          element.innerHTML = '';\n",
              "          dataTable['output_type'] = 'display_data';\n",
              "          await google.colab.output.renderOutput(dataTable, element);\n",
              "          const docLink = document.createElement('div');\n",
              "          docLink.innerHTML = docLinkHtml;\n",
              "          element.appendChild(docLink);\n",
              "        }\n",
              "      </script>\n",
              "    </div>\n",
              "  </div>\n",
              "  "
            ]
          },
          "metadata": {},
          "execution_count": 7
        }
      ]
    },
    {
      "cell_type": "code",
      "source": [
        "pd_funcionarios.count()"
      ],
      "metadata": {
        "colab": {
          "base_uri": "https://localhost:8080/"
        },
        "id": "xDM2BWOY0zqi",
        "outputId": "3fd69271-943f-4747-9ecd-deebee7fb70b"
      },
      "execution_count": null,
      "outputs": [
        {
          "output_type": "execute_result",
          "data": {
            "text/plain": [
              "matricula           1000\n",
              "nome                1000\n",
              "area                1000\n",
              "cargo               1000\n",
              "salario_bruto       1000\n",
              "data_de_admissao    1000\n",
              "dtype: int64"
            ]
          },
          "metadata": {},
          "execution_count": 15
        }
      ]
    },
    {
      "cell_type": "code",
      "source": [
        "pd_funcionarios['salario_bruto'].describe()"
      ],
      "metadata": {
        "colab": {
          "base_uri": "https://localhost:8080/"
        },
        "id": "P1WM-Qxh099k",
        "outputId": "c24901c5-24b6-47f9-d66f-4057f550d4a8"
      },
      "execution_count": null,
      "outputs": [
        {
          "output_type": "execute_result",
          "data": {
            "text/plain": [
              "count          1000\n",
              "unique           57\n",
              "top       $7,272.00\n",
              "freq             50\n",
              "Name: salario_bruto, dtype: object"
            ]
          },
          "metadata": {},
          "execution_count": 16
        }
      ]
    },
    {
      "cell_type": "code",
      "source": [
        "#analisando a quantidade de funcionarios por cargo\n",
        "pd_funcionarios['cargo'].value_counts()"
      ],
      "metadata": {
        "colab": {
          "base_uri": "https://localhost:8080/"
        },
        "id": "Rub0bstj1D7N",
        "outputId": "035f6059-82da-4e5d-b8a1-7f7483827eb0"
      },
      "execution_count": null,
      "outputs": [
        {
          "output_type": "execute_result",
          "data": {
            "text/plain": [
              "Auxiliar Administrativo      118\n",
              "Atendente de Almoxarifado     90\n",
              "Jovem Aprendiz                86\n",
              "Pessoa Desenvolvedora         83\n",
              "Copeiro                       79\n",
              "Diretor Tecnologia            65\n",
              "Diretor Financeiro            63\n",
              "Analista de Finanças          50\n",
              "Atendente                     44\n",
              "Economista Pleno              44\n",
              "Economista Júnior             42\n",
              "Líder de Relacionamento       38\n",
              "Contador Júnior               37\n",
              "Estagiário                    36\n",
              "Auxiliar de Contabilidade     34\n",
              "Auxiliar de Ouvidoria         33\n",
              "Contador Pleno                31\n",
              "Líder de Ouvidoria            27\n",
              "Name: cargo, dtype: int64"
            ]
          },
          "metadata": {},
          "execution_count": 17
        }
      ]
    },
    {
      "cell_type": "code",
      "source": [
        "#analisando a quantidade de funcionarios por area\n",
        "pd_funcionarios['area'].value_counts()"
      ],
      "metadata": {
        "colab": {
          "base_uri": "https://localhost:8080/"
        },
        "id": "5xvJbFu61HrH",
        "outputId": "d27a8959-e8b5-40aa-b89e-422b0152f9c3"
      },
      "execution_count": null,
      "outputs": [
        {
          "output_type": "execute_result",
          "data": {
            "text/plain": [
              "Diretoria                       206\n",
              "Tecnologia                      169\n",
              "Serviços Gerais                 169\n",
              "Financeiro                      159\n",
              "Contabilidade                   155\n",
              "Relacionamento com o Cliente    142\n",
              "Name: area, dtype: int64"
            ]
          },
          "metadata": {},
          "execution_count": 18
        }
      ]
    },
    {
      "cell_type": "code",
      "source": [
        "#validando se existem dados nulos\n",
        "pd_funcionarios.apply(lambda x: sum(x.isnull()),axis=0)"
      ],
      "metadata": {
        "colab": {
          "base_uri": "https://localhost:8080/"
        },
        "id": "mb1vuZe81Jg5",
        "outputId": "cb89792e-ea2e-460c-c095-bbd3d7ded84e"
      },
      "execution_count": null,
      "outputs": [
        {
          "output_type": "execute_result",
          "data": {
            "text/plain": [
              "matricula           0\n",
              "nome                0\n",
              "area                0\n",
              "cargo               0\n",
              "salario_bruto       0\n",
              "data_de_admissao    0\n",
              "dtype: int64"
            ]
          },
          "metadata": {},
          "execution_count": 19
        }
      ]
    },
    {
      "cell_type": "markdown",
      "source": [
        "# Iniciando o desenvolvimento"
      ],
      "metadata": {
        "id": "bGJ757uo0Gw2"
      }
    },
    {
      "cell_type": "code",
      "source": [
        "df_funcionarios = spark.read.json('base_desafio_lucros.json') \\\n",
        "                  .select(\"nome\"\n",
        "                          ,\"matricula\"\n",
        "                          ,upper(col(\"cargo\")).alias(\"cargo\")\n",
        "                          ,upper(col(\"area\")).alias(\"area\")\n",
        "                          ,regexp_replace(col(\"salario_bruto\"), \"[\\$#,]\", \"\").cast('float').alias(\"salario_bruto\")\n",
        "                          ,to_date(\"data_de_admissao\").alias(\"data_de_admissao\")\n",
        "                          ,datediff(current_date(),col(\"data_de_admissao\")).alias(\"dias_admissao\")\n",
        "                          )\n",
        "                  \n",
        "df_funcionarios.show(5, truncate=False)"
      ],
      "metadata": {
        "colab": {
          "base_uri": "https://localhost:8080/"
        },
        "id": "6BYHy53u4-Je",
        "outputId": "603a666f-0daa-4799-85e0-a947bece8915"
      },
      "execution_count": 11,
      "outputs": [
        {
          "output_type": "stream",
          "name": "stdout",
          "text": [
            "+--------------------+---------+-----------------------+----------------------------+-------------+----------------+-------------+\n",
            "|nome                |matricula|cargo                  |area                        |salario_bruto|data_de_admissao|dias_admissao|\n",
            "+--------------------+---------+-----------------------+----------------------------+-------------+----------------+-------------+\n",
            "|Ivo Ferreira        |5433534  |PESSOA DESENVOLVEDORA  |TECNOLOGIA                  |3636.0       |2004-05-28      |6548         |\n",
            "|Caetana da Magalhães|5241166  |JOVEM APRENDIZ         |TECNOLOGIA                  |12726.0      |2009-09-06      |4621         |\n",
            "|Benjamim Cardoso    |3027629  |AUXILIAR ADMINISTRATIVO|CONTABILIDADE               |3636.0       |2020-05-08      |724          |\n",
            "|Diego da Campos     |2556888  |ATENDENTE              |RELACIONAMENTO COM O CLIENTE|1515.0       |2016-09-10      |2060         |\n",
            "|Leonor Moura        |2390033  |JOVEM APRENDIZ         |TECNOLOGIA                  |2424.0       |2016-01-15      |2299         |\n",
            "+--------------------+---------+-----------------------+----------------------------+-------------+----------------+-------------+\n",
            "only showing top 5 rows\n",
            "\n"
          ]
        }
      ]
    },
    {
      "cell_type": "code",
      "source": [
        "#Checando se existem matriculas duplicadas\n",
        "df_funcionarios.select('matricula').dropDuplicates().count()"
      ],
      "metadata": {
        "colab": {
          "base_uri": "https://localhost:8080/"
        },
        "id": "R37zH0Z6Lvfg",
        "outputId": "60223846-077a-4380-9fb1-8270bf03f1f6"
      },
      "execution_count": null,
      "outputs": [
        {
          "output_type": "execute_result",
          "data": {
            "text/plain": [
              "1000"
            ]
          },
          "metadata": {},
          "execution_count": 9
        }
      ]
    },
    {
      "cell_type": "code",
      "source": [
        "#analisando os tipos de cada variável\n",
        "df_funcionarios.dtypes"
      ],
      "metadata": {
        "colab": {
          "base_uri": "https://localhost:8080/"
        },
        "id": "YgFNlMrN0kMr",
        "outputId": "81287be9-9396-4f8b-bbf9-3dc956eae617"
      },
      "execution_count": null,
      "outputs": [
        {
          "output_type": "execute_result",
          "data": {
            "text/plain": [
              "[('nome', 'string'),\n",
              " ('matricula', 'bigint'),\n",
              " ('cargo', 'string'),\n",
              " ('area', 'string'),\n",
              " ('salario_bruto', 'float'),\n",
              " ('data_de_admissao', 'date'),\n",
              " ('dias_admissao', 'int')]"
            ]
          },
          "metadata": {},
          "execution_count": 10
        }
      ]
    },
    {
      "cell_type": "code",
      "source": [
        "#definicao de variaveis\n",
        "\n",
        "#valor disponivel para distribuicao\n",
        "lucro_empresa_total = 5000000\n",
        "\n",
        "#efetuado a divisão do valor total pelas 3 regras existentes\n",
        "lucro_divisao_quadrante = lucro_empresa_total / 3 \n",
        "print(lucro_divisao_quadrante)"
      ],
      "metadata": {
        "colab": {
          "base_uri": "https://localhost:8080/"
        },
        "id": "9ktf9qgW1N7f",
        "outputId": "193e5dd5-5b21-4219-fbbd-c3f4dbd3fbe6"
      },
      "execution_count": 6,
      "outputs": [
        {
          "output_type": "stream",
          "name": "stdout",
          "text": [
            "1666666.6666666667\n"
          ]
        }
      ]
    },
    {
      "cell_type": "code",
      "source": [
        "#valor salario minimo atualmente\n",
        "salario_minimo_base = 1212.00"
      ],
      "metadata": {
        "id": "l2AAkdMjDx3n"
      },
      "execution_count": 7,
      "outputs": []
    },
    {
      "cell_type": "markdown",
      "source": [
        "## Bonus por Area"
      ],
      "metadata": {
        "id": "ERjA22oLv1No"
      }
    },
    {
      "cell_type": "markdown",
      "source": [
        "\n",
        "```\n",
        "Foi estabelecido um peso por área de atuação (Quanto maior o peso maior o valor recebido):\n",
        "\n",
        "Peso 1: Diretoria;\n",
        "Peso 2: Contabilidade, Financeiro, Tecnologia;\n",
        "Peso 3: Serviços Gerais;\n",
        "Peso 5: Relacionamento com o Cliente;\n"
      ],
      "metadata": {
        "id": "h9trizOm1Qph"
      }
    },
    {
      "cell_type": "markdown",
      "source": [
        "```\n",
        "Diretoria                       206\n",
        "Tecnologia                      169\n",
        "Serviços Gerais                 169\n",
        "Financeiro                      159\n",
        "Contabilidade                   155\n",
        "Relacionamento com o Cliente    142\n"
      ],
      "metadata": {
        "id": "QJ2K3BLz-OkD"
      }
    },
    {
      "cell_type": "code",
      "source": [
        "##definindo os pesos de acordo com a area de cada funcionario\n",
        "df_funcionarios_q1 = df_funcionarios \\\n",
        "                      .withColumn('peso_area_atuacao',\n",
        "                                  when(df_funcionarios['area'] == 'DIRETORIA', 1)\n",
        "                                  .when(df_funcionarios['area'].isin('CONTABILIDADE','FINANCEIRO','TECNOLOGIA'), 2)\n",
        "                                  .when(df_funcionarios['area'] == 'SERVIÇOS GERAIS', 3)\n",
        "                                  .when(df_funcionarios['area'] == 'RELACIONAMENTO COM O CLIENTE', 5)\n",
        "                                  .otherwise(99)) ##em caso de uma area diferente, \n",
        "                                                  ##mantenho 99 para facilitar a evidencia do cenario nao esperado"
      ],
      "metadata": {
        "id": "JRK38ObW1Ou-"
      },
      "execution_count": 21,
      "outputs": []
    },
    {
      "cell_type": "code",
      "source": [
        "df_funcionarios_q1.filter(~df_funcionarios_q1['peso_area_atuacao'].isin(1,2,3,5)).show(5)"
      ],
      "metadata": {
        "colab": {
          "base_uri": "https://localhost:8080/"
        },
        "id": "Pj4ghiwKA9uA",
        "outputId": "9b6a7533-df4c-4ff9-8391-67fdb2f1f6ba"
      },
      "execution_count": null,
      "outputs": [
        {
          "output_type": "stream",
          "name": "stdout",
          "text": [
            "+----+---------+-----+----+-------------+-----------------+\n",
            "|nome|matricula|cargo|area|salario_bruto|peso_area_atuacao|\n",
            "+----+---------+-----+----+-------------+-----------------+\n",
            "+----+---------+-----+----+-------------+-----------------+\n",
            "\n"
          ]
        }
      ]
    },
    {
      "cell_type": "code",
      "source": [
        "df_funcionarios_q1.show(10, truncate = False)"
      ],
      "metadata": {
        "colab": {
          "base_uri": "https://localhost:8080/"
        },
        "id": "MkSjGMP__4mM",
        "outputId": "6741c5a0-f63a-4000-eb9c-9860f17e22e7"
      },
      "execution_count": null,
      "outputs": [
        {
          "output_type": "stream",
          "name": "stdout",
          "text": [
            "+----------------------------+-----------------------+----------------+---------+--------------------+-------------+----------------------------+-----------------+\n",
            "|area                        |cargo                  |data_de_admissao|matricula|nome                |salario_bruto|area_upper                  |peso_area_atuacao|\n",
            "+----------------------------+-----------------------+----------------+---------+--------------------+-------------+----------------------------+-----------------+\n",
            "|Tecnologia                  |Pessoa Desenvolvedora  |2004-05-28      |5433534  |Ivo Ferreira        |$3,636.00    |TECNOLOGIA                  |2                |\n",
            "|Tecnologia                  |Jovem Aprendiz         |2009-09-06      |5241166  |Caetana da Magalhães|$12,726.00   |TECNOLOGIA                  |2                |\n",
            "|Contabilidade               |Auxiliar Administrativo|2020-05-08      |3027629  |Benjamim Cardoso    |$3,636.00    |CONTABILIDADE               |2                |\n",
            "|Relacionamento com o Cliente|Atendente              |2016-09-10      |2556888  |Diego da Campos     |$1,515.00    |RELACIONAMENTO COM O CLIENTE|5                |\n",
            "|Tecnologia                  |Jovem Aprendiz         |2016-01-15      |2390033  |Leonor Moura        |$2,424.00    |TECNOLOGIA                  |2                |\n",
            "|Relacionamento com o Cliente|Líder de Relacionamento|2011-03-07      |3489341  |Joel do Nunes       |$5,454.00    |RELACIONAMENTO COM O CLIENTE|5                |\n",
            "|Serviços Gerais             |Copeiro                |2002-09-03      |6406083  |Lara-Francisca Lima |$7,676.00    |SERVIÇOS GERAIS             |3                |\n",
            "|Contabilidade               |Auxiliar Administrativo|2002-06-03      |4036167  |Vicente Domingues   |$9,696.00    |CONTABILIDADE               |2                |\n",
            "|Contabilidade               |Auxiliar Administrativo|2001-08-19      |9204073  |Gustavo Pires       |$1,818.00    |CONTABILIDADE               |2                |\n",
            "|Contabilidade               |Auxiliar Administrativo|2003-02-09      |8359093  |Jéssica Pinto       |$10,908.00   |CONTABILIDADE               |2                |\n",
            "+----------------------------+-----------------------+----------------+---------+--------------------+-------------+----------------------------+-----------------+\n",
            "only showing top 10 rows\n",
            "\n"
          ]
        }
      ]
    },
    {
      "cell_type": "code",
      "source": [
        "df_funcionarios_q1_final = df_funcionarios_q1 \\\n",
        "                     .withColumn('bonus_quadrante1',\n",
        "                                  when(df_funcionarios_q1['peso_area_atuacao'] == 1, salario_minimo_base)\n",
        "                                  .when(df_funcionarios_q1['peso_area_atuacao'] == 2, salario_minimo_base * 1.25)\n",
        "                                  .when(df_funcionarios_q1['peso_area_atuacao'] == 3, salario_minimo_base * 1.5)\n",
        "                                  .when(df_funcionarios_q1['peso_area_atuacao'] == 5, salario_minimo_base * 2)\n",
        "                                  .otherwise(0)) \\\n",
        "                      .select(df_funcionarios_q1['matricula'],\n",
        "                              df_funcionarios_q1['nome'],\n",
        "                              df_funcionarios_q1['area'],\n",
        "                              df_funcionarios_q1['peso_area_atuacao'],\n",
        "                              round(col('bonus_quadrante1'),2).alias('bonus_quadrante1')\n",
        "                              )\n"
      ],
      "metadata": {
        "id": "XhT6bkaH_57P"
      },
      "execution_count": 22,
      "outputs": []
    },
    {
      "cell_type": "code",
      "source": [
        "df_funcionarios_q1_final.show(20)"
      ],
      "metadata": {
        "colab": {
          "base_uri": "https://localhost:8080/"
        },
        "id": "BGonU6hRv-k0",
        "outputId": "87491961-e982-4687-fcc1-59e08221685c"
      },
      "execution_count": null,
      "outputs": [
        {
          "output_type": "stream",
          "name": "stdout",
          "text": [
            "+---------+--------------------+--------------------+-----------------+----------------+\n",
            "|matricula|                nome|          area_upper|peso_area_atuacao|bonus_quadrante1|\n",
            "+---------+--------------------+--------------------+-----------------+----------------+\n",
            "|  5433534|        Ivo Ferreira|          TECNOLOGIA|                2|          1515.0|\n",
            "|  5241166|Caetana da Magalhães|          TECNOLOGIA|                2|          1515.0|\n",
            "|  3027629|    Benjamim Cardoso|       CONTABILIDADE|                2|          1515.0|\n",
            "|  2556888|     Diego da Campos|RELACIONAMENTO CO...|                5|          2424.0|\n",
            "|  2390033|        Leonor Moura|          TECNOLOGIA|                2|          1515.0|\n",
            "|  3489341|       Joel do Nunes|RELACIONAMENTO CO...|                5|          2424.0|\n",
            "|  6406083| Lara-Francisca Lima|     SERVIÇOS GERAIS|                3|          1818.0|\n",
            "|  4036167|   Vicente Domingues|       CONTABILIDADE|                2|          1515.0|\n",
            "|  9204073|       Gustavo Pires|       CONTABILIDADE|                2|          1515.0|\n",
            "|  8359093|       Jéssica Pinto|       CONTABILIDADE|                2|          1515.0|\n",
            "|  6545816|       César Esteves|RELACIONAMENTO CO...|                5|          2424.0|\n",
            "|  9691824|   Noa Morais-Simões|           DIRETORIA|                1|          1212.0|\n",
            "|  9501949|        César Araújo|       CONTABILIDADE|                2|          1515.0|\n",
            "|  4110499|        Wilson Sousa|          FINANCEIRO|                2|          1515.0|\n",
            "|  8181478|       Núria Martins|     SERVIÇOS GERAIS|                3|          1818.0|\n",
            "|  9744601|       Luísa Antunes|     SERVIÇOS GERAIS|                3|          1818.0|\n",
            "|  9834047|        Erica Coelho|           DIRETORIA|                1|          1212.0|\n",
            "|  2277798|        Martim Brito|          TECNOLOGIA|                2|          1515.0|\n",
            "|  9813125|     Francisco Silva|     SERVIÇOS GERAIS|                3|          1818.0|\n",
            "|  8974688|  Raquel da Teixeira|       CONTABILIDADE|                2|          1515.0|\n",
            "+---------+--------------------+--------------------+-----------------+----------------+\n",
            "only showing top 20 rows\n",
            "\n"
          ]
        }
      ]
    },
    {
      "cell_type": "code",
      "source": [
        "df_soma_q1 = df_funcionarios_q1_final \\\n",
        "  .select(df_funcionarios_q1_final['bonus_quadrante1']) \\\n",
        "  .groupBy() \\\n",
        "  .sum() \\"
      ],
      "metadata": {
        "id": "nA5HvU46HI6t"
      },
      "execution_count": 32,
      "outputs": []
    },
    {
      "cell_type": "code",
      "source": [
        "df_soma_q1.show()"
      ],
      "metadata": {
        "colab": {
          "base_uri": "https://localhost:8080/"
        },
        "id": "ekTUYMRCWHCb",
        "outputId": "f6db5a9f-5a7c-4f49-e5cd-87855b758b72"
      },
      "execution_count": 33,
      "outputs": [
        {
          "output_type": "stream",
          "name": "stdout",
          "text": [
            "+---------------------+\n",
            "|sum(bonus_quadrante1)|\n",
            "+---------------------+\n",
            "|            1632867.0|\n",
            "+---------------------+\n",
            "\n"
          ]
        }
      ]
    },
    {
      "cell_type": "code",
      "source": [
        "df_soma_q1.show()"
      ],
      "metadata": {
        "colab": {
          "base_uri": "https://localhost:8080/"
        },
        "id": "whPKyNYRtwSG",
        "outputId": "51c979bf-6183-4db2-a235-f59db0de6c3e"
      },
      "execution_count": null,
      "outputs": [
        {
          "output_type": "stream",
          "name": "stdout",
          "text": [
            "+---------------------+\n",
            "|sum(bonus_quadrante1)|\n",
            "+---------------------+\n",
            "|            1632867.0|\n",
            "+---------------------+\n",
            "\n"
          ]
        }
      ]
    },
    {
      "cell_type": "code",
      "source": [
        "df_soma_q1.show()"
      ],
      "metadata": {
        "colab": {
          "base_uri": "https://localhost:8080/"
        },
        "id": "Y1DkbNf1KFnX",
        "outputId": "538acbaf-15e8-4007-b69a-b308a013ccd7"
      },
      "execution_count": null,
      "outputs": [
        {
          "output_type": "stream",
          "name": "stdout",
          "text": [
            "+---------------------+\n",
            "|sum(bonus_quadrante1)|\n",
            "+---------------------+\n",
            "|   1596809.9999999928|\n",
            "+---------------------+\n",
            "\n"
          ]
        }
      ]
    },
    {
      "cell_type": "code",
      "source": [
        "print(1666666.6666666667 - 1632867)\n",
        "\n"
      ],
      "metadata": {
        "colab": {
          "base_uri": "https://localhost:8080/"
        },
        "id": "EBa-rrr8t0fL",
        "outputId": "5118225f-2b0e-464e-8401-ac179e899f13"
      },
      "execution_count": null,
      "outputs": [
        {
          "output_type": "stream",
          "name": "stdout",
          "text": [
            "33799.666666666744\n"
          ]
        }
      ]
    },
    {
      "cell_type": "code",
      "source": [
        "print(1666666.6666666667 - 1596809.9999999928)"
      ],
      "metadata": {
        "colab": {
          "base_uri": "https://localhost:8080/"
        },
        "id": "uYObr0QKtIxC",
        "outputId": "6883c95f-c5b6-45d5-b842-a2982b31e02b"
      },
      "execution_count": null,
      "outputs": [
        {
          "output_type": "stream",
          "name": "stdout",
          "text": [
            "69856.66666667396\n"
          ]
        }
      ]
    },
    {
      "cell_type": "code",
      "source": [
        "df_soma_q1 = df_funcionarios_q1_final.agg(sum(\"bonus_quadrante1\")).collect()[0][0]"
      ],
      "metadata": {
        "id": "02XZubwrJT1v"
      },
      "execution_count": null,
      "outputs": []
    },
    {
      "cell_type": "code",
      "source": [
        "print(df_soma_q1)#1.666.666.67"
      ],
      "metadata": {
        "colab": {
          "base_uri": "https://localhost:8080/"
        },
        "id": "rF01L4sSJl0N",
        "outputId": "f59ff28b-0537-4f1c-fc98-09d18e814e18"
      },
      "execution_count": null,
      "outputs": [
        {
          "output_type": "stream",
          "name": "stdout",
          "text": [
            "1548693.599999998\n"
          ]
        }
      ]
    },
    {
      "cell_type": "markdown",
      "source": [
        "## Bonus Faixa Salarial"
      ],
      "metadata": {
        "id": "UtPmpnBQxGa_"
      }
    },
    {
      "cell_type": "markdown",
      "source": [
        "\n",
        "```\n",
        "Foi estabelecido um peso por faixa salarial e uma exceção para estagiários(Quanto maior o peso menor o\n",
        "valor recebido):\n",
        "Peso 5: Acima de 8 salários mínimos;\n",
        "Peso 3: Acima de 5 salários mínimos e menor que 8 salários mínimos;\n",
        "Peso 2: Acima de 3 salários mínimos e menor que 5 salários mínimos;\n",
        "Peso 1: Todos os estagiários e funcionários que ganham até 3 salários mínimos;\n",
        "```"
      ],
      "metadata": {
        "id": "D1MEDKXbxSx0"
      }
    },
    {
      "cell_type": "code",
      "source": [
        "salario_minimo_base_mult_8 = salario_minimo_base * 8\n",
        "salario_minimo_base_mult_5 = salario_minimo_base * 5\n",
        "salario_minimo_base_mult_3 = salario_minimo_base * 3"
      ],
      "metadata": {
        "id": "Vx5OVsbnFjLo"
      },
      "execution_count": 13,
      "outputs": []
    },
    {
      "cell_type": "code",
      "source": [
        "type(salario_minimo_base_mult_3)"
      ],
      "metadata": {
        "colab": {
          "base_uri": "https://localhost:8080/"
        },
        "id": "an85P00Y0l49",
        "outputId": "dc96c56f-e757-4229-d8cb-7f37a08ea9f0"
      },
      "execution_count": null,
      "outputs": [
        {
          "output_type": "execute_result",
          "data": {
            "text/plain": [
              "float"
            ]
          },
          "metadata": {},
          "execution_count": 61
        }
      ]
    },
    {
      "cell_type": "code",
      "source": [
        "print(salario_minimo_base_mult_8)"
      ],
      "metadata": {
        "colab": {
          "base_uri": "https://localhost:8080/"
        },
        "id": "YwpkKdVxzMYh",
        "outputId": "ec2af67c-2ea1-4c49-8c6e-8ee110b109e9"
      },
      "execution_count": null,
      "outputs": [
        {
          "output_type": "stream",
          "name": "stdout",
          "text": [
            "9696.0\n"
          ]
        }
      ]
    },
    {
      "cell_type": "code",
      "source": [
        "print(salario_minimo_base_mult_5)"
      ],
      "metadata": {
        "colab": {
          "base_uri": "https://localhost:8080/"
        },
        "id": "x70BgWPazNy-",
        "outputId": "b9db0639-227a-4496-fe17-8b9f72e00fa2"
      },
      "execution_count": null,
      "outputs": [
        {
          "output_type": "stream",
          "name": "stdout",
          "text": [
            "6060.0\n"
          ]
        }
      ]
    },
    {
      "cell_type": "code",
      "source": [
        "print(salario_minimo_base_mult_3)"
      ],
      "metadata": {
        "colab": {
          "base_uri": "https://localhost:8080/"
        },
        "id": "ZspDzyLKzQh2",
        "outputId": "4a2c9bde-f42c-4822-9d9b-1966df89519a"
      },
      "execution_count": null,
      "outputs": [
        {
          "output_type": "stream",
          "name": "stdout",
          "text": [
            "3636.0\n"
          ]
        }
      ]
    },
    {
      "cell_type": "code",
      "source": [
        "df_funcionarios_q2 = df_funcionarios \\\n",
        "                      .withColumn('peso_faixa_salarial',\n",
        "                                  when(df_funcionarios['salario_bruto'] >= salario_minimo_base_mult_8, 5)\n",
        "                                  .when((df_funcionarios['salario_bruto'] < salario_minimo_base_mult_8)\n",
        "                                        & (df_funcionarios['salario_bruto'] >= salario_minimo_base_mult_5), 3)\n",
        "                                  .when((df_funcionarios['salario_bruto'] < salario_minimo_base_mult_5)\n",
        "                                        & (df_funcionarios['salario_bruto'] >= salario_minimo_base_mult_3), 2)     \n",
        "                                  .when((df_funcionarios['salario_bruto'] < salario_minimo_base_mult_3)\n",
        "                                        & (df_funcionarios['cargo']!='JOVEM APRENDIZ'), 1)                             \n",
        "                                  .otherwise(99))\n",
        "                                  ##Aqui surgiu uma dúvida para a regra de peso 1, como não foi citado, estou entendendo\n",
        "                                  ##que o jovem aprendiz não terá direito a este bônus"
      ],
      "metadata": {
        "id": "t2trZO2pxp9Z"
      },
      "execution_count": 39,
      "outputs": []
    },
    {
      "cell_type": "code",
      "source": [
        "df_funcionarios_q2.select('cargo').distinct().show(truncate=False)"
      ],
      "metadata": {
        "colab": {
          "base_uri": "https://localhost:8080/"
        },
        "id": "oAFMlfMV9VqC",
        "outputId": "1bf35415-0a35-4fef-982a-82f86dcab050"
      },
      "execution_count": null,
      "outputs": [
        {
          "output_type": "stream",
          "name": "stdout",
          "text": [
            "+-------------------------+\n",
            "|cargo                    |\n",
            "+-------------------------+\n",
            "|LÍDER DE RELACIONAMENTO  |\n",
            "|DIRETOR FINANCEIRO       |\n",
            "|ESTAGIÁRIO               |\n",
            "|ECONOMISTA JÚNIOR        |\n",
            "|CONTADOR PLENO           |\n",
            "|AUXILIAR DE CONTABILIDADE|\n",
            "|AUXILIAR DE OUVIDORIA    |\n",
            "|CONTADOR JÚNIOR          |\n",
            "|ATENDENTE DE ALMOXARIFADO|\n",
            "|ATENDENTE                |\n",
            "|AUXILIAR ADMINISTRATIVO  |\n",
            "|DIRETOR TECNOLOGIA       |\n",
            "|JOVEM APRENDIZ           |\n",
            "|COPEIRO                  |\n",
            "|PESSOA DESENVOLVEDORA    |\n",
            "|ECONOMISTA PLENO         |\n",
            "|LÍDER DE OUVIDORIA       |\n",
            "|ANALISTA DE FINANÇAS     |\n",
            "+-------------------------+\n",
            "\n"
          ]
        }
      ]
    },
    {
      "cell_type": "code",
      "source": [
        "df_funcionarios_q2.show(20, truncate=False)"
      ],
      "metadata": {
        "colab": {
          "base_uri": "https://localhost:8080/"
        },
        "id": "88e10-2L0V5B",
        "outputId": "f1f3502d-8c06-4602-e31d-8e07463ef744"
      },
      "execution_count": null,
      "outputs": [
        {
          "output_type": "stream",
          "name": "stdout",
          "text": [
            "+--------------------+---------+-------------------------+----------------------------+-------------+-------------------+\n",
            "|nome                |matricula|cargo                    |area                        |salario_bruto|peso_faixa_salarial|\n",
            "+--------------------+---------+-------------------------+----------------------------+-------------+-------------------+\n",
            "|Ivo Ferreira        |5433534  |PESSOA DESENVOLVEDORA    |TECNOLOGIA                  |3636.0       |2                  |\n",
            "|Caetana da Magalhães|5241166  |JOVEM APRENDIZ           |TECNOLOGIA                  |12726.0      |5                  |\n",
            "|Benjamim Cardoso    |3027629  |AUXILIAR ADMINISTRATIVO  |CONTABILIDADE               |3636.0       |2                  |\n",
            "|Diego da Campos     |2556888  |ATENDENTE                |RELACIONAMENTO COM O CLIENTE|1515.0       |1                  |\n",
            "|Leonor Moura        |2390033  |JOVEM APRENDIZ           |TECNOLOGIA                  |2424.0       |99                 |\n",
            "|Joel do Nunes       |3489341  |LÍDER DE RELACIONAMENTO  |RELACIONAMENTO COM O CLIENTE|5454.0       |2                  |\n",
            "|Lara-Francisca Lima |6406083  |COPEIRO                  |SERVIÇOS GERAIS             |7676.0       |3                  |\n",
            "|Vicente Domingues   |4036167  |AUXILIAR ADMINISTRATIVO  |CONTABILIDADE               |9696.0       |5                  |\n",
            "|Gustavo Pires       |9204073  |AUXILIAR ADMINISTRATIVO  |CONTABILIDADE               |1818.0       |1                  |\n",
            "|Jéssica Pinto       |8359093  |AUXILIAR ADMINISTRATIVO  |CONTABILIDADE               |10908.0      |5                  |\n",
            "|César Esteves       |6545816  |AUXILIAR DE OUVIDORIA    |RELACIONAMENTO COM O CLIENTE|3333.0       |1                  |\n",
            "|Noa Morais-Simões   |9691824  |DIRETOR FINANCEIRO       |DIRETORIA                   |8484.0       |3                  |\n",
            "|César Araújo        |9501949  |CONTADOR JÚNIOR          |CONTABILIDADE               |10302.0      |5                  |\n",
            "|Wilson Sousa        |4110499  |CONTADOR PLENO           |FINANCEIRO                  |9090.0       |3                  |\n",
            "|Núria Martins       |8181478  |ATENDENTE DE ALMOXARIFADO|SERVIÇOS GERAIS             |808.0        |1                  |\n",
            "|Luísa Antunes       |9744601  |COPEIRO                  |SERVIÇOS GERAIS             |1212.0       |1                  |\n",
            "|Erica Coelho        |9834047  |DIRETOR FINANCEIRO       |DIRETORIA                   |25452.0      |5                  |\n",
            "|Martim Brito        |2277798  |PESSOA DESENVOLVEDORA    |TECNOLOGIA                  |7272.0       |3                  |\n",
            "|Francisco Silva     |9813125  |ATENDENTE DE ALMOXARIFADO|SERVIÇOS GERAIS             |7272.0       |3                  |\n",
            "|Raquel da Teixeira  |8974688  |ECONOMISTA PLENO         |CONTABILIDADE               |1818.0       |1                  |\n",
            "+--------------------+---------+-------------------------+----------------------------+-------------+-------------------+\n",
            "only showing top 20 rows\n",
            "\n"
          ]
        }
      ]
    },
    {
      "cell_type": "code",
      "source": [
        "df_funcionarios_q2_final = df_funcionarios_q2 \\\n",
        "                     .withColumn('bonus_quadrante2',\n",
        "                                  when(df_funcionarios_q2['peso_faixa_salarial'] == 5, salario_minimo_base)\n",
        "                                  .when(df_funcionarios_q2['peso_faixa_salarial'] == 3, salario_minimo_base * 1.25)\n",
        "                                  .when(df_funcionarios_q2['peso_faixa_salarial'] == 2, salario_minimo_base * 1.5)\n",
        "                                  .when(df_funcionarios_q2['peso_faixa_salarial'] == 1, salario_minimo_base * 2)\n",
        "                                  .otherwise(0)) \\\n",
        "                      .select(df_funcionarios_q2['matricula'],\n",
        "                              df_funcionarios_q2['nome'],\n",
        "                              df_funcionarios_q2['cargo'],\n",
        "                              df_funcionarios_q2['peso_faixa_salarial'],\n",
        "                              round(col('bonus_quadrante2'),2).alias('bonus_quadrante2')\n",
        "                              )"
      ],
      "metadata": {
        "id": "ZcIAFO5D_Es-"
      },
      "execution_count": 40,
      "outputs": []
    },
    {
      "cell_type": "code",
      "source": [
        "df_funcionarios_q2_final.show(5, truncate=False)"
      ],
      "metadata": {
        "colab": {
          "base_uri": "https://localhost:8080/"
        },
        "id": "6-TRHpbg_4RV",
        "outputId": "c7c1cabc-1030-4bee-9bec-5180223d9eac"
      },
      "execution_count": null,
      "outputs": [
        {
          "output_type": "stream",
          "name": "stdout",
          "text": [
            "+---------+--------------------+-----------------------+-------------------+----------------+\n",
            "|matricula|nome                |cargo                  |peso_faixa_salarial|bonus_quadrante2|\n",
            "+---------+--------------------+-----------------------+-------------------+----------------+\n",
            "|5433534  |Ivo Ferreira        |PESSOA DESENVOLVEDORA  |2                  |1818.0          |\n",
            "|5241166  |Caetana da Magalhães|JOVEM APRENDIZ         |5                  |1212.0          |\n",
            "|3027629  |Benjamim Cardoso    |AUXILIAR ADMINISTRATIVO|2                  |1818.0          |\n",
            "|2556888  |Diego da Campos     |ATENDENTE              |1                  |2424.0          |\n",
            "|2390033  |Leonor Moura        |JOVEM APRENDIZ         |99                 |0.0             |\n",
            "+---------+--------------------+-----------------------+-------------------+----------------+\n",
            "only showing top 5 rows\n",
            "\n"
          ]
        }
      ]
    },
    {
      "cell_type": "code",
      "source": [
        "df_soma_q2 = df_funcionarios_q2_final \\\n",
        "  .select(df_funcionarios_q2_final['bonus_quadrante2']) \\\n",
        "  .groupBy() \\\n",
        "  .sum() \\"
      ],
      "metadata": {
        "id": "2wln0AgAVO-P"
      },
      "execution_count": 41,
      "outputs": []
    },
    {
      "cell_type": "code",
      "source": [
        "df_soma_q2.show(5)"
      ],
      "metadata": {
        "colab": {
          "base_uri": "https://localhost:8080/"
        },
        "id": "N14Ji0gYV5bB",
        "outputId": "aba7dc6b-be0a-44b0-f7ea-42158699aaf9"
      },
      "execution_count": 42,
      "outputs": [
        {
          "output_type": "stream",
          "name": "stdout",
          "text": [
            "+---------------------+\n",
            "|sum(bonus_quadrante2)|\n",
            "+---------------------+\n",
            "|            1664379.0|\n",
            "+---------------------+\n",
            "\n"
          ]
        }
      ]
    },
    {
      "cell_type": "code",
      "source": [
        "df_soma_q2.show(5)"
      ],
      "metadata": {
        "colab": {
          "base_uri": "https://localhost:8080/"
        },
        "id": "zWUBZFtXVTMH",
        "outputId": "b2ae9f88-8318-497f-fefe-989b7f361348"
      },
      "execution_count": null,
      "outputs": [
        {
          "output_type": "stream",
          "name": "stdout",
          "text": [
            "+---------------------+\n",
            "|sum(bonus_quadrante2)|\n",
            "+---------------------+\n",
            "|            1664379.0|\n",
            "+---------------------+\n",
            "\n"
          ]
        }
      ]
    },
    {
      "cell_type": "markdown",
      "source": [
        "## Bonus tempo de admissao"
      ],
      "metadata": {
        "id": "guUNVceBANjN"
      }
    },
    {
      "cell_type": "markdown",
      "source": [
        "```\n",
        "Foi estabelecido um peso por tempo de admissão(Quanto maior o peso maior o valor recebido):\n",
        "Peso 1: Até 1 ano de casa;\n",
        "Peso 2: Mais de 1 ano e menos de 3 anos;\n",
        "Peso 3: Acima de 3 anos e menos de 8 anos;\n",
        "Peso 5: Mais de 8 anos\n",
        "```"
      ],
      "metadata": {
        "id": "XU6mI-VMFBtA"
      }
    },
    {
      "cell_type": "code",
      "source": [
        "dias_admissao_1_ano = 365\n",
        "dias_admissao_3_anos = 1095 \n",
        "dias_admissao_8_anos = 2920"
      ],
      "metadata": {
        "id": "1XD8DANeANBT"
      },
      "execution_count": 34,
      "outputs": []
    },
    {
      "cell_type": "code",
      "source": [
        "df_funcionarios_q3 = df_funcionarios \\\n",
        "                      .withColumn('peso_tempo_admissao',\n",
        "                                  when(df_funcionarios['dias_admissao'] <= dias_admissao_1_ano, 1)\n",
        "                                  .when((df_funcionarios['dias_admissao'] > dias_admissao_1_ano)\n",
        "                                        & (df_funcionarios['dias_admissao'] <= dias_admissao_3_anos), 2)\n",
        "                                  .when((df_funcionarios['dias_admissao'] > dias_admissao_3_anos)\n",
        "                                        & (df_funcionarios['dias_admissao'] <= dias_admissao_8_anos), 3)                                 \n",
        "                                  .otherwise(5)) ##acima de 8 anos"
      ],
      "metadata": {
        "id": "M662ktXXEaFY"
      },
      "execution_count": 35,
      "outputs": []
    },
    {
      "cell_type": "code",
      "source": [
        "df_funcionarios_q3.show(5)"
      ],
      "metadata": {
        "colab": {
          "base_uri": "https://localhost:8080/"
        },
        "id": "0hsO6G0PGbSA",
        "outputId": "3d504f0f-688e-48b8-828b-1b68b922cb24"
      },
      "execution_count": null,
      "outputs": [
        {
          "output_type": "stream",
          "name": "stdout",
          "text": [
            "+--------------------+---------+--------------------+--------------------+-------------+----------------+-------------+-------------------+\n",
            "|                nome|matricula|               cargo|                area|salario_bruto|data_de_admissao|dias_admissao|peso_tempo_admissao|\n",
            "+--------------------+---------+--------------------+--------------------+-------------+----------------+-------------+-------------------+\n",
            "|        Ivo Ferreira|  5433534|PESSOA DESENVOLVE...|          TECNOLOGIA|       3636.0|      2004-05-28|         6546|                  4|\n",
            "|Caetana da Magalhães|  5241166|      JOVEM APRENDIZ|          TECNOLOGIA|      12726.0|      2009-09-06|         4619|                  4|\n",
            "|    Benjamim Cardoso|  3027629|AUXILIAR ADMINIST...|       CONTABILIDADE|       3636.0|      2020-05-08|          722|                  2|\n",
            "|     Diego da Campos|  2556888|           ATENDENTE|RELACIONAMENTO CO...|       1515.0|      2016-09-10|         2058|                  3|\n",
            "|        Leonor Moura|  2390033|      JOVEM APRENDIZ|          TECNOLOGIA|       2424.0|      2016-01-15|         2297|                  3|\n",
            "+--------------------+---------+--------------------+--------------------+-------------+----------------+-------------+-------------------+\n",
            "only showing top 5 rows\n",
            "\n"
          ]
        }
      ]
    },
    {
      "cell_type": "code",
      "source": [
        "df_funcionarios_q3_final = df_funcionarios_q3 \\\n",
        "                     .withColumn('bonus_quadrante3',\n",
        "                                  when(df_funcionarios_q3['peso_tempo_admissao'] == 1, salario_minimo_base * 0.75)\n",
        "                                  .when(df_funcionarios_q3['peso_tempo_admissao'] == 2, salario_minimo_base * 0.95)\n",
        "                                  .when(df_funcionarios_q3['peso_tempo_admissao'] == 3, salario_minimo_base * 1.15)\n",
        "                                  .when(df_funcionarios_q3['peso_tempo_admissao'] == 5, salario_minimo_base * 1.55)\n",
        "                                  .otherwise(0)) \\\n",
        "                      .select(df_funcionarios_q3['matricula'],\n",
        "                              df_funcionarios_q3['nome'],\n",
        "                              df_funcionarios_q3['data_de_admissao'],                              \n",
        "                              df_funcionarios_q3['dias_admissao'],\n",
        "                              df_funcionarios_q3['peso_tempo_admissao'],\n",
        "                              round(col('bonus_quadrante3'),2).alias('bonus_quadrante3')\n",
        "                              )"
      ],
      "metadata": {
        "id": "xlufRjBXGiCK"
      },
      "execution_count": 36,
      "outputs": []
    },
    {
      "cell_type": "code",
      "source": [
        "df_funcionarios_q3_final.show(10)"
      ],
      "metadata": {
        "colab": {
          "base_uri": "https://localhost:8080/"
        },
        "id": "OyvQR8_THj99",
        "outputId": "669944d6-f9ed-4b01-a36a-c78b096b0cd6"
      },
      "execution_count": null,
      "outputs": [
        {
          "output_type": "stream",
          "name": "stdout",
          "text": [
            "+---------+--------------------+----------------+-------------+-------------------+----------------+\n",
            "|matricula|                nome|data_de_admissao|dias_admissao|peso_tempo_admissao|bonus_quadrante3|\n",
            "+---------+--------------------+----------------+-------------+-------------------+----------------+\n",
            "|  5433534|        Ivo Ferreira|      2004-05-28|         6546|                  5|          2424.0|\n",
            "|  5241166|Caetana da Magalhães|      2009-09-06|         4619|                  5|          2424.0|\n",
            "|  3027629|    Benjamim Cardoso|      2020-05-08|          722|                  2|          1515.0|\n",
            "|  2556888|     Diego da Campos|      2016-09-10|         2058|                  3|          1818.0|\n",
            "|  2390033|        Leonor Moura|      2016-01-15|         2297|                  3|          1818.0|\n",
            "|  3489341|       Joel do Nunes|      2011-03-07|         4072|                  5|          2424.0|\n",
            "|  6406083| Lara-Francisca Lima|      2002-09-03|         7179|                  5|          2424.0|\n",
            "|  4036167|   Vicente Domingues|      2002-06-03|         7271|                  5|          2424.0|\n",
            "|  9204073|       Gustavo Pires|      2001-08-19|         7559|                  5|          2424.0|\n",
            "|  8359093|       Jéssica Pinto|      2003-02-09|         7020|                  5|          2424.0|\n",
            "+---------+--------------------+----------------+-------------+-------------------+----------------+\n",
            "only showing top 10 rows\n",
            "\n"
          ]
        }
      ]
    },
    {
      "cell_type": "code",
      "source": [
        "df_soma_q3 = df_funcionarios_q3_final \\\n",
        "  .select(df_funcionarios_q3_final['bonus_quadrante3']) \\\n",
        "  .groupBy() \\\n",
        "  .sum() \\"
      ],
      "metadata": {
        "id": "-xGTY7u4ViGr"
      },
      "execution_count": 37,
      "outputs": []
    },
    {
      "cell_type": "code",
      "source": [
        "df_soma_q3.show()"
      ],
      "metadata": {
        "colab": {
          "base_uri": "https://localhost:8080/"
        },
        "id": "d_9dmY3CW1zt",
        "outputId": "913f9314-575a-4928-97dd-560750f82e8a"
      },
      "execution_count": 38,
      "outputs": [
        {
          "output_type": "stream",
          "name": "stdout",
          "text": [
            "+---------------------+\n",
            "|sum(bonus_quadrante3)|\n",
            "+---------------------+\n",
            "|   1644926.4000000171|\n",
            "+---------------------+\n",
            "\n"
          ]
        }
      ]
    },
    {
      "cell_type": "code",
      "source": [
        "df_soma_q3.show()"
      ],
      "metadata": {
        "colab": {
          "base_uri": "https://localhost:8080/"
        },
        "id": "8gD-32M9VpZX",
        "outputId": "5fb2e528-700a-4994-9341-3178eb269805"
      },
      "execution_count": null,
      "outputs": [
        {
          "output_type": "stream",
          "name": "stdout",
          "text": [
            "+---------------------+\n",
            "|sum(bonus_quadrante3)|\n",
            "+---------------------+\n",
            "|   1947926.4000000237|\n",
            "+---------------------+\n",
            "\n"
          ]
        }
      ]
    },
    {
      "cell_type": "markdown",
      "source": [
        "# JOIN com todos os Datraframes de Bonus"
      ],
      "metadata": {
        "id": "AAp0AfQQIMC0"
      }
    },
    {
      "cell_type": "code",
      "source": [
        "df_funcionarios_join_bonus = df_funcionarios \\\n",
        "                            .join(df_funcionarios_q1_final\n",
        "                                  ,\"matricula\"\n",
        "                                  ,\"inner\") \\\n",
        "                            .join(df_funcionarios_q2_final\n",
        "                                  ,\"matricula\"\n",
        "                                  ,\"inner\") \\\n",
        "                            .join(df_funcionarios_q3_final\n",
        "                                  ,\"matricula\"\n",
        "                                  ,\"inner\") \\\n",
        "                            .select(\n",
        "                                df_funcionarios[\"matricula\"]\n",
        "                                ,df_funcionarios[\"nome\"]\n",
        "                                ,df_funcionarios[\"cargo\"]\n",
        "                                ,df_funcionarios[\"area\"]\n",
        "                                ,df_funcionarios[\"salario_bruto\"]\n",
        "                                ,df_funcionarios_q1_final[\"bonus_quadrante1\"]\n",
        "                                ,df_funcionarios_q2_final[\"bonus_quadrante2\"]\n",
        "                                ,df_funcionarios_q3_final[\"bonus_quadrante3\"]\n",
        "                            )"
      ],
      "metadata": {
        "id": "x-aRuIVrITes"
      },
      "execution_count": 28,
      "outputs": []
    },
    {
      "cell_type": "code",
      "source": [
        "df_funcionarios_join_bonus.show(10)"
      ],
      "metadata": {
        "colab": {
          "base_uri": "https://localhost:8080/"
        },
        "id": "AlvS3ibxOKiX",
        "outputId": "399f6e3e-08cd-47a8-957c-5fbc0c3a1729"
      },
      "execution_count": null,
      "outputs": [
        {
          "output_type": "stream",
          "name": "stdout",
          "text": [
            "+---------+--------------------+--------------------+--------------------+-------------+----------------+----------------+----------------+\n",
            "|matricula|                nome|               cargo|                area|salario_bruto|bonus_quadrante1|bonus_quadrante2|bonus_quadrante3|\n",
            "+---------+--------------------+--------------------+--------------------+-------------+----------------+----------------+----------------+\n",
            "|  5433534|        Ivo Ferreira|PESSOA DESENVOLVE...|          TECNOLOGIA|       3636.0|          1515.0|          1818.0|          2424.0|\n",
            "|  5241166|Caetana da Magalhães|      JOVEM APRENDIZ|          TECNOLOGIA|      12726.0|          1515.0|          1212.0|          2424.0|\n",
            "|  3027629|    Benjamim Cardoso|AUXILIAR ADMINIST...|       CONTABILIDADE|       3636.0|          1515.0|          1818.0|          1515.0|\n",
            "|  2556888|     Diego da Campos|           ATENDENTE|RELACIONAMENTO CO...|       1515.0|          2424.0|          2424.0|          1818.0|\n",
            "|  2390033|        Leonor Moura|      JOVEM APRENDIZ|          TECNOLOGIA|       2424.0|          1515.0|             0.0|          1818.0|\n",
            "|  3489341|       Joel do Nunes|LÍDER DE RELACION...|RELACIONAMENTO CO...|       5454.0|          2424.0|          1818.0|          2424.0|\n",
            "|  6406083| Lara-Francisca Lima|             COPEIRO|     SERVIÇOS GERAIS|       7676.0|          1818.0|          1515.0|          2424.0|\n",
            "|  4036167|   Vicente Domingues|AUXILIAR ADMINIST...|       CONTABILIDADE|       9696.0|          1515.0|          1212.0|          2424.0|\n",
            "|  9204073|       Gustavo Pires|AUXILIAR ADMINIST...|       CONTABILIDADE|       1818.0|          1515.0|          2424.0|          2424.0|\n",
            "|  8359093|       Jéssica Pinto|AUXILIAR ADMINIST...|       CONTABILIDADE|      10908.0|          1515.0|          1212.0|          2424.0|\n",
            "+---------+--------------------+--------------------+--------------------+-------------+----------------+----------------+----------------+\n",
            "only showing top 10 rows\n",
            "\n"
          ]
        }
      ]
    },
    {
      "cell_type": "code",
      "source": [
        "df_funcionarios_join_bonus.show(1)"
      ],
      "metadata": {
        "colab": {
          "base_uri": "https://localhost:8080/"
        },
        "id": "QPHCLCflMrOW",
        "outputId": "69483a61-2400-4cb9-9a7e-1b3ca5a27142"
      },
      "execution_count": null,
      "outputs": [
        {
          "output_type": "stream",
          "name": "stdout",
          "text": [
            "+---------+------------+--------------------+----------+-------------+----------------+-------------+------------+----------+-----------------+----------------+------------+--------------------+-------------------+----------------+------------+----------------+-------------+-------------------+----------------+\n",
            "|matricula|        nome|               cargo|      area|salario_bruto|data_de_admissao|dias_admissao|        nome|      area|peso_area_atuacao|bonus_quadrante1|        nome|               cargo|peso_faixa_salarial|bonus_quadrante2|        nome|data_de_admissao|dias_admissao|peso_tempo_admissao|bonus_quadrante3|\n",
            "+---------+------------+--------------------+----------+-------------+----------------+-------------+------------+----------+-----------------+----------------+------------+--------------------+-------------------+----------------+------------+----------------+-------------+-------------------+----------------+\n",
            "|  5433534|Ivo Ferreira|PESSOA DESENVOLVE...|TECNOLOGIA|       3636.0|      2004-05-28|         6546|Ivo Ferreira|TECNOLOGIA|                2|          1515.0|Ivo Ferreira|PESSOA DESENVOLVE...|                  2|          1818.0|Ivo Ferreira|      2004-05-28|         6546|                  5|          2424.0|\n",
            "+---------+------------+--------------------+----------+-------------+----------------+-------------+------------+----------+-----------------+----------------+------------+--------------------+-------------------+----------------+------------+----------------+-------------+-------------------+----------------+\n",
            "only showing top 1 row\n",
            "\n"
          ]
        }
      ]
    },
    {
      "cell_type": "code",
      "source": [
        "df_funcionarios_join_bonus.count()"
      ],
      "metadata": {
        "colab": {
          "base_uri": "https://localhost:8080/"
        },
        "id": "9Tn2dliaO_3_",
        "outputId": "d21bac4e-dfbc-402f-aff6-055901352d1b"
      },
      "execution_count": null,
      "outputs": [
        {
          "output_type": "execute_result",
          "data": {
            "text/plain": [
              "1000"
            ]
          },
          "metadata": {},
          "execution_count": 109
        }
      ]
    },
    {
      "cell_type": "markdown",
      "source": [
        "# Soma de Bonus por funcionário"
      ],
      "metadata": {
        "id": "2T1BGLMJOTlE"
      }
    },
    {
      "cell_type": "code",
      "source": [
        "df_func_soma_bonus = df_funcionarios_join_bonus \\\n",
        "                      .withColumn(\"soma_bonus\",\n",
        "                                  df_funcionarios_join_bonus[\"bonus_quadrante1\"] +\n",
        "                                  df_funcionarios_join_bonus[\"bonus_quadrante2\"] +\n",
        "                                  df_funcionarios_join_bonus[\"bonus_quadrante3\"])"
      ],
      "metadata": {
        "id": "W8CQ-VkSMf3c"
      },
      "execution_count": 29,
      "outputs": []
    },
    {
      "cell_type": "code",
      "source": [
        "df_func_soma_bonus.show(10)"
      ],
      "metadata": {
        "colab": {
          "base_uri": "https://localhost:8080/"
        },
        "id": "hoa0x-xMPO2L",
        "outputId": "4454c087-b8c8-472c-a4fd-e7780cf6221c"
      },
      "execution_count": null,
      "outputs": [
        {
          "output_type": "stream",
          "name": "stdout",
          "text": [
            "+---------+--------------------+--------------------+--------------------+-------------+----------------+----------------+----------------+----------+\n",
            "|matricula|                nome|               cargo|                area|salario_bruto|bonus_quadrante1|bonus_quadrante2|bonus_quadrante3|soma_bonus|\n",
            "+---------+--------------------+--------------------+--------------------+-------------+----------------+----------------+----------------+----------+\n",
            "|  5433534|        Ivo Ferreira|PESSOA DESENVOLVE...|          TECNOLOGIA|       3636.0|          1515.0|          1818.0|          2424.0|    5757.0|\n",
            "|  5241166|Caetana da Magalhães|      JOVEM APRENDIZ|          TECNOLOGIA|      12726.0|          1515.0|          1212.0|          2424.0|    5151.0|\n",
            "|  3027629|    Benjamim Cardoso|AUXILIAR ADMINIST...|       CONTABILIDADE|       3636.0|          1515.0|          1818.0|          1515.0|    4848.0|\n",
            "|  2556888|     Diego da Campos|           ATENDENTE|RELACIONAMENTO CO...|       1515.0|          2424.0|          2424.0|          1818.0|    6666.0|\n",
            "|  2390033|        Leonor Moura|      JOVEM APRENDIZ|          TECNOLOGIA|       2424.0|          1515.0|             0.0|          1818.0|    3333.0|\n",
            "|  3489341|       Joel do Nunes|LÍDER DE RELACION...|RELACIONAMENTO CO...|       5454.0|          2424.0|          1818.0|          2424.0|    6666.0|\n",
            "|  6406083| Lara-Francisca Lima|             COPEIRO|     SERVIÇOS GERAIS|       7676.0|          1818.0|          1515.0|          2424.0|    5757.0|\n",
            "|  4036167|   Vicente Domingues|AUXILIAR ADMINIST...|       CONTABILIDADE|       9696.0|          1515.0|          1212.0|          2424.0|    5151.0|\n",
            "|  9204073|       Gustavo Pires|AUXILIAR ADMINIST...|       CONTABILIDADE|       1818.0|          1515.0|          2424.0|          2424.0|    6363.0|\n",
            "|  8359093|       Jéssica Pinto|AUXILIAR ADMINIST...|       CONTABILIDADE|      10908.0|          1515.0|          1212.0|          2424.0|    5151.0|\n",
            "+---------+--------------------+--------------------+--------------------+-------------+----------------+----------------+----------------+----------+\n",
            "only showing top 10 rows\n",
            "\n"
          ]
        }
      ]
    },
    {
      "cell_type": "code",
      "source": [
        "df_soma_total_bonus_empresa = df_func_soma_bonus \\\n",
        "  .select(df_func_soma_bonus['soma_bonus']) \\\n",
        "  .groupBy() \\\n",
        "  .sum() \\"
      ],
      "metadata": {
        "id": "X0do_74zPkxO"
      },
      "execution_count": 30,
      "outputs": []
    },
    {
      "cell_type": "code",
      "source": [
        "df_soma_total_bonus_empresa.show()"
      ],
      "metadata": {
        "colab": {
          "base_uri": "https://localhost:8080/"
        },
        "id": "bOfaeDBmWNqm",
        "outputId": "8e2f1ae5-a983-4e35-a699-71c85d3d86f8"
      },
      "execution_count": 31,
      "outputs": [
        {
          "output_type": "stream",
          "name": "stdout",
          "text": [
            "+-----------------+\n",
            "|  sum(soma_bonus)|\n",
            "+-----------------+\n",
            "|4942172.399999981|\n",
            "+-----------------+\n",
            "\n"
          ]
        }
      ]
    },
    {
      "cell_type": "code",
      "source": [
        "df_soma_total_bonus_empresa.show()"
      ],
      "metadata": {
        "colab": {
          "base_uri": "https://localhost:8080/"
        },
        "id": "3Kpl5LySPwyb",
        "outputId": "ad802328-3d64-4906-915a-898d339dc238"
      },
      "execution_count": null,
      "outputs": [
        {
          "output_type": "stream",
          "name": "stdout",
          "text": [
            "+---------------+\n",
            "|sum(soma_bonus)|\n",
            "+---------------+\n",
            "|      5429154.0|\n",
            "+---------------+\n",
            "\n"
          ]
        }
      ]
    }
  ]
}